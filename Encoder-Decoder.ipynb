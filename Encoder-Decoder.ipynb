{
 "cells": [
  {
   "cell_type": "code",
   "execution_count": 4,
   "metadata": {},
   "outputs": [
    {
     "name": "stdout",
     "output_type": "stream",
     "text": [
      "Downloading https://www.cs.toronto.edu/~kriz/cifar-10-python.tar.gz to ./data/cifar-10-python.tar.gz\n"
     ]
    },
    {
     "name": "stderr",
     "output_type": "stream",
     "text": [
      "100%|██████████| 170498071/170498071 [00:12<00:00, 13994354.03it/s]\n"
     ]
    },
    {
     "name": "stdout",
     "output_type": "stream",
     "text": [
      "Extracting ./data/cifar-10-python.tar.gz to ./data\n",
      "Epoch [1/10], Step [0/782], Loss: 0.2385\n",
      "Epoch [1/10], Step [100/782], Loss: 0.1547\n",
      "Epoch [1/10], Step [200/782], Loss: 0.0978\n",
      "Epoch [1/10], Step [300/782], Loss: 0.0749\n",
      "Epoch [1/10], Step [400/782], Loss: 0.0732\n",
      "Epoch [1/10], Step [500/782], Loss: 0.0653\n",
      "Epoch [1/10], Step [600/782], Loss: 0.0733\n",
      "Epoch [1/10], Step [700/782], Loss: 0.0584\n",
      "Epoch [2/10], Step [0/782], Loss: 0.0651\n",
      "Epoch [2/10], Step [100/782], Loss: 0.0583\n",
      "Epoch [2/10], Step [200/782], Loss: 0.0536\n",
      "Epoch [2/10], Step [300/782], Loss: 0.0562\n",
      "Epoch [2/10], Step [400/782], Loss: 0.0526\n",
      "Epoch [2/10], Step [500/782], Loss: 0.0561\n",
      "Epoch [2/10], Step [600/782], Loss: 0.0485\n",
      "Epoch [2/10], Step [700/782], Loss: 0.0539\n",
      "Epoch [3/10], Step [0/782], Loss: 0.0576\n",
      "Epoch [3/10], Step [100/782], Loss: 0.0531\n",
      "Epoch [3/10], Step [200/782], Loss: 0.0521\n",
      "Epoch [3/10], Step [300/782], Loss: 0.0529\n",
      "Epoch [3/10], Step [400/782], Loss: 0.0408\n",
      "Epoch [3/10], Step [500/782], Loss: 0.0450\n",
      "Epoch [3/10], Step [600/782], Loss: 0.0426\n",
      "Epoch [3/10], Step [700/782], Loss: 0.0414\n",
      "Epoch [4/10], Step [0/782], Loss: 0.0396\n",
      "Epoch [4/10], Step [100/782], Loss: 0.0374\n",
      "Epoch [4/10], Step [200/782], Loss: 0.0338\n",
      "Epoch [4/10], Step [300/782], Loss: 0.0375\n",
      "Epoch [4/10], Step [400/782], Loss: 0.0366\n",
      "Epoch [4/10], Step [500/782], Loss: 0.0360\n",
      "Epoch [4/10], Step [600/782], Loss: 0.0389\n",
      "Epoch [4/10], Step [700/782], Loss: 0.0387\n",
      "Epoch [5/10], Step [0/782], Loss: 0.0315\n",
      "Epoch [5/10], Step [100/782], Loss: 0.0345\n",
      "Epoch [5/10], Step [200/782], Loss: 0.0298\n",
      "Epoch [5/10], Step [300/782], Loss: 0.0338\n",
      "Epoch [5/10], Step [400/782], Loss: 0.0338\n",
      "Epoch [5/10], Step [500/782], Loss: 0.0343\n",
      "Epoch [5/10], Step [600/782], Loss: 0.0327\n",
      "Epoch [5/10], Step [700/782], Loss: 0.0289\n",
      "Epoch [6/10], Step [0/782], Loss: 0.0312\n",
      "Epoch [6/10], Step [100/782], Loss: 0.0297\n",
      "Epoch [6/10], Step [200/782], Loss: 0.0293\n",
      "Epoch [6/10], Step [300/782], Loss: 0.0352\n",
      "Epoch [6/10], Step [400/782], Loss: 0.0394\n",
      "Epoch [6/10], Step [500/782], Loss: 0.0318\n",
      "Epoch [6/10], Step [600/782], Loss: 0.0313\n",
      "Epoch [6/10], Step [700/782], Loss: 0.0308\n",
      "Epoch [7/10], Step [0/782], Loss: 0.0281\n",
      "Epoch [7/10], Step [100/782], Loss: 0.0293\n",
      "Epoch [7/10], Step [200/782], Loss: 0.0304\n",
      "Epoch [7/10], Step [300/782], Loss: 0.0293\n",
      "Epoch [7/10], Step [400/782], Loss: 0.0300\n",
      "Epoch [7/10], Step [500/782], Loss: 0.0263\n",
      "Epoch [7/10], Step [600/782], Loss: 0.0302\n",
      "Epoch [7/10], Step [700/782], Loss: 0.0308\n",
      "Epoch [8/10], Step [0/782], Loss: 0.0310\n",
      "Epoch [8/10], Step [100/782], Loss: 0.0308\n",
      "Epoch [8/10], Step [200/782], Loss: 0.0297\n",
      "Epoch [8/10], Step [300/782], Loss: 0.0309\n",
      "Epoch [8/10], Step [400/782], Loss: 0.0307\n",
      "Epoch [8/10], Step [500/782], Loss: 0.0289\n",
      "Epoch [8/10], Step [600/782], Loss: 0.0282\n",
      "Epoch [8/10], Step [700/782], Loss: 0.0312\n",
      "Epoch [9/10], Step [0/782], Loss: 0.0303\n",
      "Epoch [9/10], Step [100/782], Loss: 0.0310\n",
      "Epoch [9/10], Step [200/782], Loss: 0.0262\n",
      "Epoch [9/10], Step [300/782], Loss: 0.0303\n",
      "Epoch [9/10], Step [400/782], Loss: 0.0261\n",
      "Epoch [9/10], Step [500/782], Loss: 0.0279\n",
      "Epoch [9/10], Step [600/782], Loss: 0.0291\n",
      "Epoch [9/10], Step [700/782], Loss: 0.0275\n",
      "Epoch [10/10], Step [0/782], Loss: 0.0287\n",
      "Epoch [10/10], Step [100/782], Loss: 0.0256\n",
      "Epoch [10/10], Step [200/782], Loss: 0.0275\n",
      "Epoch [10/10], Step [300/782], Loss: 0.0255\n",
      "Epoch [10/10], Step [400/782], Loss: 0.0291\n",
      "Epoch [10/10], Step [500/782], Loss: 0.0269\n",
      "Epoch [10/10], Step [600/782], Loss: 0.0262\n",
      "Epoch [10/10], Step [700/782], Loss: 0.0250\n",
      "Training finished.\n"
     ]
    }
   ],
   "source": [
    "import torch\n",
    "import torch.nn as nn\n",
    "import torch.optim as optim\n",
    "from torchvision import datasets, transforms\n",
    "from torch.utils.data import DataLoader\n",
    "from skimage.metrics import structural_similarity as ssim\n",
    "\n",
    "device = torch.device('mps') if torch.backends.mps.is_available() else torch.device('cpu')\n",
    "\n",
    "# Define the Encoder Network\n",
    "class Encoder(nn.Module):\n",
    "    def __init__(self):\n",
    "        super(Encoder, self).__init__()\n",
    "        self.conv1 = nn.Conv2d(in_channels=3, out_channels=64, kernel_size=4, stride=2, padding=1)\n",
    "        self.conv2 = nn.Conv2d(in_channels=64, out_channels=128, kernel_size=4, stride=2, padding=1)\n",
    "        self.conv3 = nn.Conv2d(in_channels=128, out_channels=256, kernel_size=4, stride=2, padding=1)\n",
    "        self.conv4 = nn.Conv2d(in_channels=256, out_channels=512, kernel_size=4, stride=2, padding=1)\n",
    "        self.conv5 = nn.Conv2d(in_channels=512, out_channels=1024, kernel_size=4, stride=2, padding=1)\n",
    "        self.relu = nn.ReLU(True)\n",
    "\n",
    "    def forward(self, x):\n",
    "        x = self.relu(self.conv1(x))\n",
    "        x = self.relu(self.conv2(x))\n",
    "        x = self.relu(self.conv3(x))\n",
    "        x = self.relu(self.conv4(x))\n",
    "        x = self.relu(self.conv5(x))\n",
    "        return x\n",
    "\n",
    "# Define the Decoder Network\n",
    "class Decoder(nn.Module):\n",
    "    def __init__(self):\n",
    "        super(Decoder, self).__init__()\n",
    "        self.deconv1 = nn.ConvTranspose2d(in_channels=1024, out_channels=512, kernel_size=4, stride=2, padding=1)\n",
    "        self.deconv2 = nn.ConvTranspose2d(in_channels=512, out_channels=256, kernel_size=4, stride=2, padding=1)\n",
    "        self.deconv3 = nn.ConvTranspose2d(in_channels=256, out_channels=128, kernel_size=4, stride=2, padding=1)\n",
    "        self.deconv4 = nn.ConvTranspose2d(in_channels=128, out_channels=64, kernel_size=4, stride=2, padding=1)\n",
    "        self.deconv5 = nn.ConvTranspose2d(in_channels=64, out_channels=3, kernel_size=4, stride=2, padding=1)\n",
    "        self.relu = nn.ReLU(True)\n",
    "        self.tanh = nn.Tanh()\n",
    "\n",
    "    def forward(self, x):\n",
    "        x = self.relu(self.deconv1(x))\n",
    "        x = self.relu(self.deconv2(x))\n",
    "        x = self.relu(self.deconv3(x))\n",
    "        x = self.relu(self.deconv4(x))\n",
    "        x = self.tanh(self.deconv5(x))\n",
    "        return x\n",
    "\n",
    "# Instantiate the networks and move them to the appropriate device\n",
    "encoder = Encoder().to(device)\n",
    "decoder = Decoder().to(device)\n",
    "\n",
    "# Freeze the encoder parameters\n",
    "for param in encoder.parameters():\n",
    "    param.requires_grad = False\n",
    "\n",
    "# Define the loss function and optimizer\n",
    "criterion = nn.MSELoss().to(device)\n",
    "optimizer = optim.Adam(decoder.parameters(), lr=0.0002)\n",
    "\n",
    "# Data loading and transformations\n",
    "transform = transforms.Compose([\n",
    "    transforms.Resize(64),\n",
    "    transforms.ToTensor(),\n",
    "    transforms.Normalize((0.5, 0.5, 0.5), (0.5, 0.5, 0.5)),\n",
    "])\n",
    "\n",
    "# Using CIFAR-10 dataset for demonstration\n",
    "train_dataset = datasets.CIFAR10(root='./data', train=True, download=True, transform=transform)\n",
    "train_loader = DataLoader(train_dataset, batch_size=64, shuffle=True)\n",
    "\n",
    "# Training loop\n",
    "num_epochs = 10\n",
    "for epoch in range(num_epochs):\n",
    "    for batch_idx, (data, _) in enumerate(train_loader):\n",
    "        # Move data to the appropriate device\n",
    "        data = data.to(device)\n",
    "\n",
    "        # Encode and then Decode\n",
    "        with torch.no_grad():\n",
    "            latent_rep = encoder(data)\n",
    "        output = decoder(latent_rep)\n",
    "\n",
    "        # Calculate loss\n",
    "        loss = criterion(output, data)\n",
    "\n",
    "        # Backpropagation\n",
    "        optimizer.zero_grad()\n",
    "        loss.backward()\n",
    "        optimizer.step()\n",
    "\n",
    "        if batch_idx % 100 == 0:\n",
    "            print(f'Epoch [{epoch+1}/{num_epochs}], Step [{batch_idx}/{len(train_loader)}], Loss: {loss.item():.4f}')\n",
    "\n",
    "print(\"Training finished.\")\n"
   ]
  },
  {
   "cell_type": "code",
   "execution_count": 56,
   "metadata": {},
   "outputs": [
    {
     "name": "stdout",
     "output_type": "stream",
     "text": [
      "(3, 64, 64)\n"
     ]
    }
   ],
   "source": [
    "import cv2\n",
    "import numpy as np\n",
    "# Read an image using OpenCV\n",
    "image = cv2.imread('test.jpeg')\n",
    "\n",
    "# Convert to NumPy array\n",
    "image_np = np.array(data[0].to('cpu'))\n",
    "\n",
    "print(image_np.shape)"
   ]
  },
  {
   "cell_type": "code",
   "execution_count": 57,
   "metadata": {},
   "outputs": [],
   "source": [
    "im = image_np\n",
    "im = np.expand_dims(im, axis=0)"
   ]
  },
  {
   "cell_type": "code",
   "execution_count": 58,
   "metadata": {},
   "outputs": [
    {
     "data": {
      "text/plain": [
       "(1, 3, 64, 64)"
      ]
     },
     "execution_count": 58,
     "metadata": {},
     "output_type": "execute_result"
    }
   ],
   "source": [
    "im.shape"
   ]
  },
  {
   "cell_type": "code",
   "execution_count": 6,
   "metadata": {},
   "outputs": [
    {
     "name": "stdout",
     "output_type": "stream",
     "text": [
      "(64, 64)\n"
     ]
    },
    {
     "data": {
      "image/png": "[encoded data removed]",
      "text/plain": [
       "<Figure size 640x480 with 1 Axes>"
      ]
     },
     "metadata": {},
     "output_type": "display_data"
    },
    {
     "data": {
      "image/png": "[encoded data removed]",
      "text/plain": [
       "<Figure size 640x480 with 1 Axes>"
      ]
     },
     "metadata": {},
     "output_type": "display_data"
    }
   ],
   "source": [
    "import matplotlib.pyplot as plt\n",
    "import numpy as np\n",
    "device = torch.device('mps') if torch.backends.mps.is_available() else torch.device('cpu')\n",
    "with torch.no_grad():\n",
    "    im = data[0]\n",
    "    latent_rep = encoder(im)\n",
    "    output = decoder(latent_rep)\n",
    "print(np.array(im.to('cpu')[0]).shape)\n",
    "plt.imshow(np.array(im.to('cpu')[0]))\n",
    "plt.show()\n",
    "plt.imshow(np.array(output.to('cpu')[0]))\n",
    "plt.show()"
   ]
  },
  {
   "cell_type": "code",
   "execution_count": 48,
   "metadata": {},
   "outputs": [],
   "source": [
    "def get_model_size(model):\n",
    "    param_size = 0\n",
    "    for param in model.parameters():\n",
    "        param_size += param.nelement() * param.element_size()\n",
    "    \n",
    "    buffer_size = 0\n",
    "    for buffer in model.buffers():\n",
    "        buffer_size += buffer.nelement() * buffer.element_size()\n",
    "    \n",
    "    size_in_bytes = param_size + buffer_size\n",
    "    size_in_megabytes = size_in_bytes / (1024 ** 2)\n",
    "    \n",
    "    return size_in_megabytes"
   ]
  },
  {
   "cell_type": "code",
   "execution_count": 49,
   "metadata": {},
   "outputs": [
    {
     "name": "stdout",
     "output_type": "stream",
     "text": [
      "Encoder model size: 42.52 MB\n",
      "Decoder model size: 42.52 MB\n"
     ]
    }
   ],
   "source": [
    "encoder_size = get_model_size(encoder)\n",
    "decoder_size = get_model_size(decoder)\n",
    "\n",
    "print(f\"Encoder model size: {encoder_size:.2f} MB\")\n",
    "print(f\"Decoder model size: {decoder_size:.2f} MB\")"
   ]
  },
  {
   "cell_type": "code",
   "execution_count": 66,
   "metadata": {},
   "outputs": [],
   "source": [
    "from skimage.metrics import structural_similarity as ssim\n",
    "def calculate_ssim(im1, im2):\n",
    "\n",
    "    # Calculate SSIM for each channel and take the mean\n",
    "    ssim_value = np.mean([\n",
    "        ssim(im1[:, :], im2[:, :], data_range=im2[:, :].max() - im2[:, :].min())\n",
    "    ])\n",
    "    \n",
    "    return ssim_value"
   ]
  },
  {
   "cell_type": "code",
   "execution_count": 67,
   "metadata": {},
   "outputs": [
    {
     "name": "stdout",
     "output_type": "stream",
     "text": [
      "SSIM: 0.6425471781270178\n"
     ]
    }
   ],
   "source": [
    "im1 = np.array(im.to('cpu')[0])\n",
    "im2 = np.array(output.to('cpu')[0])\n",
    "\n",
    "ssim_value = calculate_ssim(im1, im2)\n",
    "print(f'SSIM: {ssim_value}')"
   ]
  },
  {
   "cell_type": "code",
   "execution_count": 40,
   "metadata": {},
   "outputs": [],
   "source": [
    "def myAtoi(s: str) -> int:\n",
    "    first_condition = True\n",
    "    second_condition = True\n",
    "    third_condition = True\n",
    "    normalization = 1\n",
    "    while first_condition:\n",
    "        char = s[0]\n",
    "        if char == \" \":\n",
    "            s = s[1:]\n",
    "        else:\n",
    "            first_condition = False\n",
    "            break\n",
    "    \n",
    "    while second_condition:\n",
    "        char = s[0]\n",
    "        if char == '-':\n",
    "            normalization = -1\n",
    "            s = s[1:]\n",
    "        elif char == '+':\n",
    "            s = s[1:]\n",
    "        else:\n",
    "            second_condition = False\n",
    "    strin = ''\n",
    "    while third_condition:\n",
    "        if s:\n",
    "            char = s[0]\n",
    "        else:\n",
    "            break\n",
    "        if char in ['1','2','3','4','5','6','7','8','9']:\n",
    "            strin += char\n",
    "            if len(s) > 0:\n",
    "                s = s[1:]\n",
    "            else:\n",
    "                break\n",
    "        elif char == '0':\n",
    "            s = s[1:]\n",
    "            pass\n",
    "        else:\n",
    "            third_condition = False\n",
    "    return normalization * int(strin)"
   ]
  },
  {
   "cell_type": "code",
   "execution_count": 42,
   "metadata": {},
   "outputs": [
    {
     "ename": "ValueError",
     "evalue": "invalid literal for int() with base 10: 'c'",
     "output_type": "error",
     "traceback": [
      "\u001b[0;31m---------------------------------------------------------------------------\u001b[0m",
      "\u001b[0;31mValueError\u001b[0m                                Traceback (most recent call last)",
      "Cell \u001b[0;32mIn[42], line 1\u001b[0m\n\u001b[0;32m----> 1\u001b[0m \u001b[43mmyAtoi\u001b[49m\u001b[43m(\u001b[49m\u001b[38;5;124;43m'\u001b[39;49m\u001b[38;5;124;43m1337c0d3\u001b[39;49m\u001b[38;5;124;43m'\u001b[39;49m\u001b[43m)\u001b[49m\n",
      "Cell \u001b[0;32mIn[40], line 29\u001b[0m, in \u001b[0;36mmyAtoi\u001b[0;34m(s)\u001b[0m\n\u001b[1;32m     27\u001b[0m \u001b[38;5;28;01melse\u001b[39;00m:\n\u001b[1;32m     28\u001b[0m     \u001b[38;5;28;01mbreak\u001b[39;00m\n\u001b[0;32m---> 29\u001b[0m \u001b[38;5;28;01mif\u001b[39;00m \u001b[38;5;28;43mint\u001b[39;49m\u001b[43m(\u001b[49m\u001b[43mchar\u001b[49m\u001b[43m)\u001b[49m \u001b[38;5;129;01min\u001b[39;00m [\u001b[38;5;241m1\u001b[39m,\u001b[38;5;241m2\u001b[39m,\u001b[38;5;241m3\u001b[39m,\u001b[38;5;241m4\u001b[39m,\u001b[38;5;241m5\u001b[39m,\u001b[38;5;241m6\u001b[39m,\u001b[38;5;241m7\u001b[39m,\u001b[38;5;241m8\u001b[39m,\u001b[38;5;241m9\u001b[39m]:\n\u001b[1;32m     30\u001b[0m     strin \u001b[38;5;241m+\u001b[39m\u001b[38;5;241m=\u001b[39m char\n\u001b[1;32m     31\u001b[0m     \u001b[38;5;28;01mif\u001b[39;00m \u001b[38;5;28mlen\u001b[39m(s) \u001b[38;5;241m>\u001b[39m \u001b[38;5;241m0\u001b[39m:\n",
      "\u001b[0;31mValueError\u001b[0m: invalid literal for int() with base 10: 'c'"
     ]
    }
   ],
   "source": [
    "myAtoi('1337c0d3')"
   ]
  }
 ],
 "metadata": {
  "kernelspec": {
   "display_name": "Python 3",
   "language": "python",
   "name": "python3"
  },
  "language_info": {
   "codemirror_mode": {
    "name": "ipython",
    "version": 3
   },
   "file_extension": ".py",
   "mimetype": "text/x-python",
   "name": "python",
   "nbconvert_exporter": "python",
   "pygments_lexer": "ipython3",
   "version": "3.9.6"
  }
 },
 "nbformat": 4,
 "nbformat_minor": 2
}
