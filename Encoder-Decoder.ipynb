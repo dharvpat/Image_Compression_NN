{
 "cells": [
  {
   "cell_type": "code",
   "execution_count": 53,
   "metadata": {},
   "outputs": [
    {
     "name": "stdout",
     "output_type": "stream",
     "text": [
      "Files already downloaded and verified\n",
      "Epoch [1/10], Step [0/782], Loss: 0.2260\n",
      "Epoch [1/10], Step [100/782], Loss: 0.1417\n",
      "Epoch [1/10], Step [200/782], Loss: 0.0943\n",
      "Epoch [1/10], Step [300/782], Loss: 0.0820\n",
      "Epoch [1/10], Step [400/782], Loss: 0.0776\n",
      "Epoch [1/10], Step [500/782], Loss: 0.0684\n",
      "Epoch [1/10], Step [600/782], Loss: 0.0630\n",
      "Epoch [1/10], Step [700/782], Loss: 0.0743\n",
      "Epoch [2/10], Step [0/782], Loss: 0.0643\n",
      "Epoch [2/10], Step [100/782], Loss: 0.0624\n",
      "Epoch [2/10], Step [200/782], Loss: 0.0582\n",
      "Epoch [2/10], Step [300/782], Loss: 0.0542\n",
      "Epoch [2/10], Step [400/782], Loss: 0.0486\n",
      "Epoch [2/10], Step [500/782], Loss: 0.0544\n",
      "Epoch [2/10], Step [600/782], Loss: 0.0497\n",
      "Epoch [2/10], Step [700/782], Loss: 0.0483\n",
      "Epoch [3/10], Step [0/782], Loss: 0.0398\n",
      "Epoch [3/10], Step [100/782], Loss: 0.0489\n",
      "Epoch [3/10], Step [200/782], Loss: 0.0491\n",
      "Epoch [3/10], Step [300/782], Loss: 0.0403\n",
      "Epoch [3/10], Step [400/782], Loss: 0.0380\n",
      "Epoch [3/10], Step [500/782], Loss: 0.0412\n",
      "Epoch [3/10], Step [600/782], Loss: 0.0400\n",
      "Epoch [3/10], Step [700/782], Loss: 0.0373\n",
      "Epoch [4/10], Step [0/782], Loss: 0.0409\n",
      "Epoch [4/10], Step [100/782], Loss: 0.0378\n",
      "Epoch [4/10], Step [200/782], Loss: 0.0342\n",
      "Epoch [4/10], Step [300/782], Loss: 0.0381\n",
      "Epoch [4/10], Step [400/782], Loss: 0.0355\n",
      "Epoch [4/10], Step [500/782], Loss: 0.0362\n",
      "Epoch [4/10], Step [600/782], Loss: 0.0335\n",
      "Epoch [4/10], Step [700/782], Loss: 0.0350\n",
      "Epoch [5/10], Step [0/782], Loss: 0.0330\n",
      "Epoch [5/10], Step [100/782], Loss: 0.0310\n",
      "Epoch [5/10], Step [200/782], Loss: 0.0328\n",
      "Epoch [5/10], Step [300/782], Loss: 0.0316\n",
      "Epoch [5/10], Step [400/782], Loss: 0.0312\n",
      "Epoch [5/10], Step [500/782], Loss: 0.0286\n",
      "Epoch [5/10], Step [600/782], Loss: 0.0331\n",
      "Epoch [5/10], Step [700/782], Loss: 0.0321\n",
      "Epoch [6/10], Step [0/782], Loss: 0.0315\n",
      "Epoch [6/10], Step [100/782], Loss: 0.0307\n",
      "Epoch [6/10], Step [200/782], Loss: 0.0313\n",
      "Epoch [6/10], Step [300/782], Loss: 0.0285\n",
      "Epoch [6/10], Step [400/782], Loss: 0.0293\n",
      "Epoch [6/10], Step [500/782], Loss: 0.0302\n",
      "Epoch [6/10], Step [600/782], Loss: 0.0257\n",
      "Epoch [6/10], Step [700/782], Loss: 0.0310\n",
      "Epoch [7/10], Step [0/782], Loss: 0.0291\n",
      "Epoch [7/10], Step [100/782], Loss: 0.0241\n",
      "Epoch [7/10], Step [200/782], Loss: 0.0289\n",
      "Epoch [7/10], Step [300/782], Loss: 0.0309\n",
      "Epoch [7/10], Step [400/782], Loss: 0.0318\n",
      "Epoch [7/10], Step [500/782], Loss: 0.0284\n",
      "Epoch [7/10], Step [600/782], Loss: 0.0280\n",
      "Epoch [7/10], Step [700/782], Loss: 0.0280\n",
      "Epoch [8/10], Step [0/782], Loss: 0.0297\n",
      "Epoch [8/10], Step [100/782], Loss: 0.0260\n",
      "Epoch [8/10], Step [200/782], Loss: 0.0248\n",
      "Epoch [8/10], Step [300/782], Loss: 0.0270\n",
      "Epoch [8/10], Step [400/782], Loss: 0.0291\n",
      "Epoch [8/10], Step [500/782], Loss: 0.0280\n",
      "Epoch [8/10], Step [600/782], Loss: 0.0267\n",
      "Epoch [8/10], Step [700/782], Loss: 0.0259\n",
      "Epoch [9/10], Step [0/782], Loss: 0.0298\n",
      "Epoch [9/10], Step [100/782], Loss: 0.0296\n",
      "Epoch [9/10], Step [200/782], Loss: 0.0283\n",
      "Epoch [9/10], Step [300/782], Loss: 0.0283\n",
      "Epoch [9/10], Step [400/782], Loss: 0.0274\n",
      "Epoch [9/10], Step [500/782], Loss: 0.0280\n",
      "Epoch [9/10], Step [600/782], Loss: 0.0253\n",
      "Epoch [9/10], Step [700/782], Loss: 0.0260\n",
      "Epoch [10/10], Step [0/782], Loss: 0.0287\n",
      "Epoch [10/10], Step [100/782], Loss: 0.0267\n",
      "Epoch [10/10], Step [200/782], Loss: 0.0271\n",
      "Epoch [10/10], Step [300/782], Loss: 0.0266\n",
      "Epoch [10/10], Step [400/782], Loss: 0.0223\n",
      "Epoch [10/10], Step [500/782], Loss: 0.0225\n",
      "Epoch [10/10], Step [600/782], Loss: 0.0281\n",
      "Epoch [10/10], Step [700/782], Loss: 0.0282\n",
      "Training finished.\n"
     ]
    }
   ],
   "source": [
    "import torch\n",
    "import torch.nn as nn\n",
    "import torch.optim as optim\n",
    "from torchvision import datasets, transforms\n",
    "from torch.utils.data import DataLoader\n",
    "from skimage.metrics import structural_similarity as ssim\n",
    "\n",
    "device = torch.device('mps') if torch.backends.mps.is_available() else torch.device('cpu')\n",
    "\n",
    "# Define the Encoder Network\n",
    "class Encoder(nn.Module):\n",
    "    def __init__(self):\n",
    "        super(Encoder, self).__init__()\n",
    "        self.conv1 = nn.Conv2d(in_channels=3, out_channels=64, kernel_size=4, stride=2, padding=1)\n",
    "        self.conv2 = nn.Conv2d(in_channels=64, out_channels=128, kernel_size=4, stride=2, padding=1)\n",
    "        self.conv3 = nn.Conv2d(in_channels=128, out_channels=256, kernel_size=4, stride=2, padding=1)\n",
    "        self.conv4 = nn.Conv2d(in_channels=256, out_channels=512, kernel_size=4, stride=2, padding=1)\n",
    "        self.conv5 = nn.Conv2d(in_channels=512, out_channels=1024, kernel_size=4, stride=2, padding=1)\n",
    "        self.relu = nn.ReLU(True)\n",
    "\n",
    "    def forward(self, x):\n",
    "        x = self.relu(self.conv1(x))\n",
    "        x = self.relu(self.conv2(x))\n",
    "        x = self.relu(self.conv3(x))\n",
    "        x = self.relu(self.conv4(x))\n",
    "        x = self.relu(self.conv5(x))\n",
    "        return x\n",
    "\n",
    "# Define the Decoder Network\n",
    "class Decoder(nn.Module):\n",
    "    def __init__(self):\n",
    "        super(Decoder, self).__init__()\n",
    "        self.deconv1 = nn.ConvTranspose2d(in_channels=1024, out_channels=512, kernel_size=4, stride=2, padding=1)\n",
    "        self.deconv2 = nn.ConvTranspose2d(in_channels=512, out_channels=256, kernel_size=4, stride=2, padding=1)\n",
    "        self.deconv3 = nn.ConvTranspose2d(in_channels=256, out_channels=128, kernel_size=4, stride=2, padding=1)\n",
    "        self.deconv4 = nn.ConvTranspose2d(in_channels=128, out_channels=64, kernel_size=4, stride=2, padding=1)\n",
    "        self.deconv5 = nn.ConvTranspose2d(in_channels=64, out_channels=3, kernel_size=4, stride=2, padding=1)\n",
    "        self.relu = nn.ReLU(True)\n",
    "        self.tanh = nn.Tanh()\n",
    "\n",
    "    def forward(self, x):\n",
    "        x = self.relu(self.deconv1(x))\n",
    "        x = self.relu(self.deconv2(x))\n",
    "        x = self.relu(self.deconv3(x))\n",
    "        x = self.relu(self.deconv4(x))\n",
    "        x = self.tanh(self.deconv5(x))\n",
    "        return x\n",
    "\n",
    "# Instantiate the networks and move them to the appropriate device\n",
    "encoder = Encoder().to(device)\n",
    "decoder = Decoder().to(device)\n",
    "\n",
    "# Freeze the encoder parameters\n",
    "for param in encoder.parameters():\n",
    "    param.requires_grad = False\n",
    "\n",
    "# Define the loss function and optimizer\n",
    "criterion = nn.MSELoss().to(device)\n",
    "optimizer = optim.Adam(decoder.parameters(), lr=0.0002)\n",
    "\n",
    "# Data loading and transformations\n",
    "transform = transforms.Compose([\n",
    "    transforms.Resize(64),\n",
    "    transforms.ToTensor(),\n",
    "    transforms.Normalize((0.5, 0.5, 0.5), (0.5, 0.5, 0.5)),\n",
    "])\n",
    "\n",
    "# Using CIFAR-10 dataset for demonstration\n",
    "train_dataset = datasets.CIFAR10(root='./data', train=True, download=True, transform=transform)\n",
    "train_loader = DataLoader(train_dataset, batch_size=64, shuffle=True)\n",
    "\n",
    "# Training loop\n",
    "num_epochs = 10\n",
    "for epoch in range(num_epochs):\n",
    "    for batch_idx, (data, _) in enumerate(train_loader):\n",
    "        # Move data to the appropriate device\n",
    "        data = data.to(device)\n",
    "\n",
    "        # Encode and then Decode\n",
    "        with torch.no_grad():\n",
    "            latent_rep = encoder(data)\n",
    "        output = decoder(latent_rep)\n",
    "\n",
    "        # Calculate loss\n",
    "        loss = criterion(output, data)\n",
    "\n",
    "        # Backpropagation\n",
    "        optimizer.zero_grad()\n",
    "        loss.backward()\n",
    "        optimizer.step()\n",
    "\n",
    "        if batch_idx % 100 == 0:\n",
    "            print(f'Epoch [{epoch+1}/{num_epochs}], Step [{batch_idx}/{len(train_loader)}], Loss: {loss.item():.4f}')\n",
    "\n",
    "print(\"Training finished.\")\n"
   ]
  },
  {
   "cell_type": "code",
   "execution_count": 56,
   "metadata": {},
   "outputs": [
    {
     "name": "stdout",
     "output_type": "stream",
     "text": [
      "(3, 64, 64)\n"
     ]
    }
   ],
   "source": [
    "import cv2\n",
    "import numpy as np\n",
    "# Read an image using OpenCV\n",
    "image = cv2.imread('test.jpeg')\n",
    "\n",
    "# Convert to NumPy array\n",
    "image_np = np.array(data[0].to('cpu'))\n",
    "\n",
    "print(image_np.shape)"
   ]
  },
  {
   "cell_type": "code",
   "execution_count": 57,
   "metadata": {},
   "outputs": [],
   "source": [
    "im = image_np\n",
    "im = np.expand_dims(im, axis=0)"
   ]
  },
  {
   "cell_type": "code",
   "execution_count": 58,
   "metadata": {},
   "outputs": [
    {
     "data": {
      "text/plain": [
       "(1, 3, 64, 64)"
      ]
     },
     "execution_count": 58,
     "metadata": {},
     "output_type": "execute_result"
    }
   ],
   "source": [
    "im.shape"
   ]
  },
  {
   "cell_type": "code",
   "execution_count": 59,
   "metadata": {},
   "outputs": [
    {
     "name": "stdout",
     "output_type": "stream",
     "text": [
      "(64, 64)\n"
     ]
    },
    {
     "data": {
      "image/png": "[encoded data removed]",
      "text/plain": [
       "<Figure size 640x480 with 1 Axes>"
      ]
     },
     "metadata": {},
     "output_type": "display_data"
    },
    {
     "data": {
      "image/png": "[encoded data removed]",
      "text/plain": [
       "<Figure size 640x480 with 1 Axes>"
      ]
     },
     "metadata": {},
     "output_type": "display_data"
    }
   ],
   "source": [
    "import matplotlib.pyplot as plt\n",
    "device = torch.device('mps') if torch.backends.mps.is_available() else torch.device('cpu')\n",
    "with torch.no_grad():\n",
    "    im = data[0]\n",
    "    latent_rep = encoder(im)\n",
    "    output = decoder(latent_rep)\n",
    "print(np.array(im.to('cpu')[0]).shape)\n",
    "plt.imshow(np.array(im.to('cpu')[0]))\n",
    "plt.show()\n",
    "plt.imshow(np.array(output.to('cpu')[0]))\n",
    "plt.show()"
   ]
  },
  {
   "cell_type": "code",
   "execution_count": 48,
   "metadata": {},
   "outputs": [],
   "source": [
    "def get_model_size(model):\n",
    "    param_size = 0\n",
    "    for param in model.parameters():\n",
    "        param_size += param.nelement() * param.element_size()\n",
    "    \n",
    "    buffer_size = 0\n",
    "    for buffer in model.buffers():\n",
    "        buffer_size += buffer.nelement() * buffer.element_size()\n",
    "    \n",
    "    size_in_bytes = param_size + buffer_size\n",
    "    size_in_megabytes = size_in_bytes / (1024 ** 2)\n",
    "    \n",
    "    return size_in_megabytes"
   ]
  },
  {
   "cell_type": "code",
   "execution_count": 49,
   "metadata": {},
   "outputs": [
    {
     "name": "stdout",
     "output_type": "stream",
     "text": [
      "Encoder model size: 42.52 MB\n",
      "Decoder model size: 42.52 MB\n"
     ]
    }
   ],
   "source": [
    "encoder_size = get_model_size(encoder)\n",
    "decoder_size = get_model_size(decoder)\n",
    "\n",
    "print(f\"Encoder model size: {encoder_size:.2f} MB\")\n",
    "print(f\"Decoder model size: {decoder_size:.2f} MB\")"
   ]
  },
  {
   "cell_type": "code",
   "execution_count": 66,
   "metadata": {},
   "outputs": [],
   "source": [
    "from skimage.metrics import structural_similarity as ssim\n",
    "def calculate_ssim(im1, im2):\n",
    "\n",
    "    # Calculate SSIM for each channel and take the mean\n",
    "    ssim_value = np.mean([\n",
    "        ssim(im1[:, :], im2[:, :], data_range=im2[:, :].max() - im2[:, :].min())\n",
    "    ])\n",
    "    \n",
    "    return ssim_value"
   ]
  },
  {
   "cell_type": "code",
   "execution_count": 67,
   "metadata": {},
   "outputs": [
    {
     "name": "stdout",
     "output_type": "stream",
     "text": [
      "SSIM: 0.6425471781270178\n"
     ]
    }
   ],
   "source": [
    "im1 = np.array(im.to('cpu')[0])\n",
    "im2 = np.array(output.to('cpu')[0])\n",
    "\n",
    "ssim_value = calculate_ssim(im1, im2)\n",
    "print(f'SSIM: {ssim_value}')"
   ]
  }
 ],
 "metadata": {
  "kernelspec": {
   "display_name": "Python 3",
   "language": "python",
   "name": "python3"
  },
  "language_info": {
   "codemirror_mode": {
    "name": "ipython",
    "version": 3
   },
   "file_extension": ".py",
   "mimetype": "text/x-python",
   "name": "python",
   "nbconvert_exporter": "python",
   "pygments_lexer": "ipython3",
   "version": "3.9.6"
  }
 },
 "nbformat": 4,
 "nbformat_minor": 2
}
